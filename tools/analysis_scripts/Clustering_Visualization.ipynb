{
  "nbformat": 4,
  "nbformat_minor": 0,
  "metadata": {
    "kernelspec": {
      "display_name": "Python 3",
      "language": "python",
      "name": "python3"
    },
    "language_info": {
      "name": "python",
      "version": "3.6.6",
      "mimetype": "text/x-python",
      "codemirror_mode": {
        "name": "ipython",
        "version": 3
      },
      "pygments_lexer": "ipython3",
      "nbconvert_exporter": "python",
      "file_extension": ".py"
    },
    "colab": {
      "name": "Clustering-Visualization.ipynb",
      "provenance": [],
      "collapsed_sections": [],
      "toc_visible": true
    }
  },
  "cells": [
    {
      "cell_type": "code",
      "metadata": {
        "id": "gdL2gBoQ2xbY",
        "colab_type": "code",
        "colab": {}
      },
      "source": [
        "import pandas as pd\n",
        "import numpy as np"
      ],
      "execution_count": 0,
      "outputs": []
    },
    {
      "cell_type": "markdown",
      "metadata": {
        "id": "7kEqTG3JQTTF",
        "colab_type": "text"
      },
      "source": [
        "##Plotly Configuration"
      ]
    },
    {
      "cell_type": "code",
      "metadata": {
        "id": "dB_ub4tM3Ra9",
        "colab_type": "code",
        "colab": {}
      },
      "source": [
        "def dist_color_gen(totPart, curPart):\n",
        "    ''' Return RGBvale as String - needed by Scatter3d:marker in plotly\n",
        "    '''\n",
        "    import colorsys\n",
        "    inc = 1/totPart\n",
        "    rgba = colorsys.hsv_to_rgb(inc*curPart, 0.5, 0.4) + (0.8,)\n",
        "    return \"rgba\" + str(rgba)\n",
        "\n",
        "\n",
        "def configure_plotly_browser_state():\n",
        "    import IPython\n",
        "    display(IPython.core.display.HTML('''\n",
        "        <script src=\"/static/components/requirejs/require.js\"></script>\n",
        "        <script>\n",
        "          requirejs.config({\n",
        "            paths: {\n",
        "              base: '/static/base',\n",
        "              plotly: 'https://cdn.plot.ly/plotly-1.5.1.min.js?noext',\n",
        "            },\n",
        "          });\n",
        "        </script>\n",
        "        '''))\n",
        "    \n",
        "configure_plotly_browser_state()\n",
        "\n",
        "\n",
        "\n",
        "import plotly as py\n",
        "import plotly.graph_objs as go\n",
        "from plotly.offline import download_plotlyjs, init_notebook_mode, plot, iplot\n",
        "\n",
        "#Instructions for building the 3-D plot\n",
        "init_notebook_mode(connected=False)\n",
        "\n"
      ],
      "execution_count": 0,
      "outputs": []
    },
    {
      "cell_type": "markdown",
      "metadata": {
        "id": "Isrc6VWqOcuc",
        "colab_type": "text"
      },
      "source": [
        "# Reading and Preprocessing the Embeddings\n",
        "Using Pandas datastructures"
      ]
    },
    {
      "cell_type": "code",
      "metadata": {
        "id": "rA1gl-Ik25Ov",
        "colab_type": "code",
        "colab": {}
      },
      "source": [
        "from sklearn.preprocessing import normalize, StandardScaler\n",
        "\n",
        "# CSV assumed to not have the header\n",
        "# df = pd.read_csv(\"/content/mini_auto-7lands.csv\")\n",
        "df = pd.read_csv(\"/content/midnet-resnet-7lands.csv\")\n",
        "\n",
        "df = df.drop(columns=\"TileID\")\n",
        "# Scaling the data to bring all the attributes to a comparable level\n",
        "scaler = StandardScaler()\n",
        "df_scaled = scaler.fit_transform(df)\n",
        "# Normalizing the data so that the data, approximately follows a Gaussian distribution\n",
        "df_normalized = normalize(df_scaled)\n",
        "df_normalized = pd.DataFrame(df_normalized)"
      ],
      "execution_count": 0,
      "outputs": []
    },
    {
      "cell_type": "markdown",
      "metadata": {
        "id": "rH3VPy9nPMnL",
        "colab_type": "text"
      },
      "source": [
        "# Clustering the Embedding\n"
      ]
    },
    {
      "cell_type": "markdown",
      "metadata": {
        "id": "DPkC9W8-i4Je",
        "colab_type": "text"
      },
      "source": [
        "## OPTICS clustering\n",
        "using scikit-learn"
      ]
    },
    {
      "cell_type": "code",
      "metadata": {
        "id": "xbe5PBJgPL5d",
        "colab_type": "code",
        "colab": {}
      },
      "source": [
        "from sklearn.cluster import OPTICS, cluster_optics_dbscan\n",
        "\n",
        "optics_model = OPTICS(min_samples = 10, xi = 0.05, min_cluster_size = 0.0001)\n",
        "optics_model.fit(df_normalized)\n",
        "\n",
        "opticCluster =[]\n",
        "opticCluster = optics_model.fit_predict(df_normalized)\n",
        "df_normalized[\"Cluster\"] = opticCluster"
      ],
      "execution_count": 0,
      "outputs": []
    },
    {
      "cell_type": "code",
      "metadata": {
        "id": "HxHyFSgIasR-",
        "colab_type": "code",
        "colab": {}
      },
      "source": [
        "df_normalized"
      ],
      "execution_count": 0,
      "outputs": []
    },
    {
      "cell_type": "markdown",
      "metadata": {
        "id": "wYfOKJHfPD90",
        "colab_type": "text"
      },
      "source": [
        "## t-SNE dimension reduction of clustered data\n",
        "using scikit-learn"
      ]
    },
    {
      "cell_type": "code",
      "metadata": {
        "id": "yBKikf8R3Iy-",
        "colab_type": "code",
        "colab": {}
      },
      "source": [
        "from sklearn.manifold import TSNE\n",
        "\n",
        "perplexity = 40\n",
        "plotX = pd.DataFrame(df_normalized)\n",
        "plotX.columns = df_normalized.columns\n",
        "\n",
        "tsne_3d = TSNE(n_components=3, perplexity=perplexity)\n",
        "TCs_3d = pd.DataFrame(tsne_3d.fit_transform(plotX.drop([\"Cluster\"], axis=1)))\n",
        "TCs_3d.columns = [\"TC1_3d\",\"TC2_3d\",\"TC3_3d\"]\n",
        "\n",
        "tsne_2d = TSNE(n_components=2, perplexity=perplexity)\n",
        "TCs_2d = pd.DataFrame(tsne_2d.fit_transform(plotX.drop([\"Cluster\"], axis=1)))\n",
        "TCs_2d.columns = [\"TC1_2d\",\"TC2_2d\"]\n",
        "\n",
        "plotX = pd.concat([plotX,TCs_3d,TCs_2d], axis=1, join='inner')\n",
        "\n",
        "cluster = []\n",
        "clustID_dict ={}\n",
        "for i, c in enumerate( sorted(plotX['Cluster'].unique()) ):\n",
        "    cluster.append( plotX[plotX[\"Cluster\"] == c] )\n",
        "    clustID_dict[i] = str(c)"
      ],
      "execution_count": 0,
      "outputs": []
    },
    {
      "cell_type": "markdown",
      "metadata": {
        "id": "gOL2XQb5QilU",
        "colab_type": "text"
      },
      "source": [
        "## Plot t-SNE\n",
        "using plotly"
      ]
    },
    {
      "cell_type": "markdown",
      "metadata": {
        "id": "xJ3UF3dLkU0C",
        "colab_type": "text"
      },
      "source": [
        "### 3d plot"
      ]
    },
    {
      "cell_type": "code",
      "metadata": {
        "id": "ZIZzZ-9qQhAA",
        "colab_type": "code",
        "colab": {}
      },
      "source": [
        "configure_plotly_browser_state()\n",
        "\n",
        "trace3d = []\n",
        "for ci in range(len(cluster)):\n",
        "    trace3d.append( go.Scatter3d(\n",
        "                    x = cluster[ci][\"TC1_3d\"],\n",
        "                    y = cluster[ci][\"TC2_3d\"],\n",
        "                    z = cluster[ci][\"TC3_3d\"],\n",
        "                    mode = \"markers\",\n",
        "                    name = \"Cluster\"+ clustID_dict[ci] ,\n",
        "                    marker = dict(color = dist_color_gen(len(cluster), ci)),\n",
        "                    text = None)\n",
        "                )\n",
        "\n",
        "\n",
        "title = \"Visualizing Clusters in THREE Dimensions Using T-SNE (perplexity=\" + str(perplexity) + \")\"\n",
        "\n",
        "layout = dict(title = title,\n",
        "              xaxis= dict(title= 'TC1',ticklen= 5,zeroline= False),\n",
        "              yaxis= dict(title= 'TC2',ticklen= 5,zeroline= False)\n",
        "             )\n",
        "\n",
        "fig = dict(data = trace3d, layout = layout)\n",
        "\n",
        "iplot(fig)"
      ],
      "execution_count": 0,
      "outputs": []
    },
    {
      "cell_type": "code",
      "metadata": {
        "colab_type": "code",
        "id": "8wY9Ruz_pdyD",
        "colab": {}
      },
      "source": [
        "configure_plotly_browser_state()\n",
        "\n",
        "trace2d = []\n",
        "for ci in range(len(cluster)):\n",
        "    trace2d.append( go.Scatter(\n",
        "                    x = cluster[ci][\"TC1_2d\"],\n",
        "                    y = cluster[ci][\"TC2_2d\"],\n",
        "                    mode = \"markers\",\n",
        "                    name = \"Cluster\"+ clustID_dict[ci] ,\n",
        "                    marker = dict(color = dist_color_gen(len(cluster), ci)),\n",
        "                    text = None)\n",
        "                )\n",
        "\n",
        "\n",
        "title = \"Visualizing Clusters in TWO Dimensions Using T-SNE (perplexity=\" + str(perplexity) + \")\"\n",
        "\n",
        "layout = dict(title = title,\n",
        "              xaxis= dict(title= 'TC1',ticklen= 5,zeroline= False),\n",
        "              yaxis= dict(title= 'TC2',ticklen= 5,zeroline= False)\n",
        "             )\n",
        "\n",
        "fig = dict(data = trace2d, layout = layout)\n",
        "\n",
        "iplot(fig)"
      ],
      "execution_count": 0,
      "outputs": []
    },
    {
      "cell_type": "code",
      "metadata": {
        "id": "89DD09yRX4Wk",
        "colab_type": "code",
        "colab": {}
      },
      "source": [
        ""
      ],
      "execution_count": 0,
      "outputs": []
    }
  ]
}